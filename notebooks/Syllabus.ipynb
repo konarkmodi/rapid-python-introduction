{
 "metadata": {
  "name": "Syllabus"
 },
 "nbformat": 3,
 "nbformat_minor": 0,
 "worksheets": [
  {
   "cells": [
    {
     "cell_type": "markdown",
     "metadata": {},
     "source": "RAPID INTRODUCTION TO PYTHON\n============================"
    },
    {
     "cell_type": "markdown",
     "metadata": {},
     "source": "*Syllabus*:\n=========\n\n* **The beginning** :\n\n\t* Variables / Datatypes\n\t* ControlFlow : If / Else\n\t* Loops\n\t* DataStructures\n\t\t* list\n\t\t* tuples\n\t\t* dicts\n\t\t* series\n\t\t* dataFrames\n\t* Setting up the environment\n\t\t* virtualenv\n\t\t* easy_install and pip\n\n\t\t\n* **I <3 Files: Let's play then** :\n\n\t* Log files\n\t* txt files\n\t* csv files\n\t* JSON and XML documents\n\t* Advanced\n\t\t* Generators / iterators : When your files are larger than the system's memory :)\n\t\n* **Oops what about Databases : Getting the persistent layer right** :\n\n\t* MySQL and Python\n\t* SQL Server and Python\n\t\n* **Things are much simpler with shell commands : How to use shell with Python** :\n\n\t* Executing shell commands with Python.\n\t* What, When and How ?\n\n* **Reports Reports Reports : Pandas & Jinja to the resuce** :\n\n\t* Jinja templates to the rescue : Create and maintain reports using this awesome templating engine.\n\t* Pandas : Data analysis in python, whether it's time-series data, WoW reports or multiple files. This sets it all right.\n\t\n* **Request and Response of webservices scare me : HTTP for humans** :\n\n\t* requests library in python\n\t* BeautifulSoup for reading webpage\n\t\n* **BYOP : Build Your Own Projects** :\n\n\t* Bring to the table your real day to day problems, and we'll see how we can efficiently solve them using python.\n\t\n* **Did we miss anything ? : How about a webapp in 20 minutes**: \n\n\t* Flask and simple web-applications in python"
    },
    {
     "cell_type": "code",
     "collapsed": false,
     "input": "    ",
     "language": "python",
     "metadata": {},
     "outputs": []
    }
   ],
   "metadata": {}
  }
 ]
}